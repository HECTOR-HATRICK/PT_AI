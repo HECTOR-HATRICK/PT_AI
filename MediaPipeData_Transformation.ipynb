{
 "cells": [
  {
   "cell_type": "code",
   "execution_count": null,
   "id": "0fb8472c",
   "metadata": {},
   "outputs": [],
   "source": [
    "#pip install split-folders"
   ]
  },
  {
   "cell_type": "code",
   "execution_count": 2,
   "id": "99d4daab",
   "metadata": {},
   "outputs": [],
   "source": [
    "import pandas as pd\n",
    "import numpy as np\n",
    "import os\n",
    "import splitfolders as sf"
   ]
  },
  {
   "cell_type": "code",
   "execution_count": 3,
   "id": "4007ddf6",
   "metadata": {},
   "outputs": [],
   "source": [
    "import mediapipe as mp"
   ]
  },
  {
   "cell_type": "code",
   "execution_count": 4,
   "id": "85457eca",
   "metadata": {},
   "outputs": [],
   "source": [
    "mp_drawing = mp.solutions.drawing_utils\n",
    "mp_drawing_styles = mp.solutions.drawing_styles\n",
    "mp_pose = mp.solutions.pose"
   ]
  },
  {
   "cell_type": "code",
   "execution_count": 5,
   "id": "7b49a8c7",
   "metadata": {},
   "outputs": [],
   "source": [
    "cols=[]\n",
    "for bodypart in mp_pose.PoseLandmark:\n",
    "    cols.append(str(bodypart).replace(\"PoseLandmark.\", \"\")+\"_X\")\n",
    "    cols.append(str(bodypart).replace(\"PoseLandmark.\", \"\")+\"_Y\")\n",
    "    cols.append(str(bodypart).replace(\"PoseLandmark.\", \"\")+\"_Z\")"
   ]
  },
  {
   "cell_type": "code",
   "execution_count": 6,
   "id": "f845908f",
   "metadata": {},
   "outputs": [],
   "source": [
    "df=pd.read_csv(\"9GB video coordinates/1.bad_back_round_coordinates/0918_squat_000016.csv\")"
   ]
  },
  {
   "cell_type": "code",
   "execution_count": 7,
   "id": "b2df3669",
   "metadata": {},
   "outputs": [],
   "source": [
    "l=[]\n",
    "for folder in os.listdir(\"9GB video coordinates\"):\n",
    "    for csv in os.listdir(f\"9GB video coordinates/{folder}\"):\n",
    "        if len(pd.read_csv(f\"9GB video coordinates/{folder}/{csv}\"))==300:\n",
    "            l.append(f\"{folder}/{csv}\")"
   ]
  },
  {
   "cell_type": "code",
   "execution_count": 8,
   "id": "9d57b3c8",
   "metadata": {},
   "outputs": [
    {
     "data": {
      "text/plain": [
       "1435"
      ]
     },
     "execution_count": 8,
     "metadata": {},
     "output_type": "execute_result"
    }
   ],
   "source": [
    "len(l)"
   ]
  },
  {
   "cell_type": "code",
   "execution_count": 9,
   "id": "2adcfa53",
   "metadata": {},
   "outputs": [],
   "source": [
    "df.drop(\"Unnamed: 0\", axis=1, inplace=True)"
   ]
  },
  {
   "cell_type": "code",
   "execution_count": 10,
   "id": "00bafccb",
   "metadata": {},
   "outputs": [
    {
     "name": "stderr",
     "output_type": "stream",
     "text": [
      "Copying files: 2054 files [00:03, 539.82 files/s]\n"
     ]
    }
   ],
   "source": [
    "sf.ratio(\"9GB video coordinates\", output=\"splitcoords\", ratio=(.8, .2), group_prefix=None)"
   ]
  },
  {
   "cell_type": "code",
   "execution_count": null,
   "id": "bc571ad5",
   "metadata": {
    "scrolled": true
   },
   "outputs": [],
   "source": [
    "train=[]\n",
    "for folder in os.listdir(\"splitcoords/train\"):\n",
    "    for csv in os.listdir(f\"splitcoords/train/{folder}\"):\n",
    "        if len(pd.read_csv(f\"splitcoords/train/{folder}/{csv}\"))==300:\n",
    "            train.append(f\"{folder}/{csv}\")"
   ]
  },
  {
   "cell_type": "code",
   "execution_count": 68,
   "id": "3ef59848",
   "metadata": {},
   "outputs": [],
   "source": [
    "os.mkdir(\"./splitcoords/train/data\")\n",
    "os.mkdir(\"./splitcoords/val/data\")"
   ]
  },
  {
   "cell_type": "code",
   "execution_count": null,
   "id": "a3e484ea",
   "metadata": {},
   "outputs": [],
   "source": [
    "for col in cols:\n",
    "    dct={}\n",
    "    for i in range(len(train)):\n",
    "        dct[str(i)] = []\n",
    "    index=0\n",
    "    for loc in train:\n",
    "        df=pd.read_csv(f\"splitcoords/train/{loc}\")\n",
    "        dct[str(index)]=df[str(col)].to_list()\n",
    "        index+=1\n",
    "    pd.DataFrame(dct).to_csv(f\"splitcoords/train/data/{col}\")"
   ]
  },
  {
   "cell_type": "code",
   "execution_count": 85,
   "id": "5220e633",
   "metadata": {},
   "outputs": [],
   "source": [
    "trainy=[int(x[0]) for x in train]\n",
    "pd.DataFrame(trainy).to_csv(f\"splitcoords/train/y_train.csv\")"
   ]
  },
  {
   "cell_type": "code",
   "execution_count": 59,
   "id": "2eb4d404",
   "metadata": {},
   "outputs": [],
   "source": [
    "test=[]\n",
    "for folder in os.listdir(\"splitcoords/val\"):\n",
    "    for csv in os.listdir(f\"splitcoords/val/{folder}\"):\n",
    "        if len(pd.read_csv(f\"splitcoords/val/{folder}/{csv}\"))==300:\n",
    "            test.append(f\"{folder}/{csv}\")"
   ]
  },
  {
   "cell_type": "code",
   "execution_count": 60,
   "id": "4f1810cb",
   "metadata": {},
   "outputs": [
    {
     "data": {
      "text/plain": [
       "298"
      ]
     },
     "execution_count": 60,
     "metadata": {},
     "output_type": "execute_result"
    }
   ],
   "source": [
    "len(test)"
   ]
  },
  {
   "cell_type": "code",
   "execution_count": 61,
   "id": "b54d5e1b",
   "metadata": {},
   "outputs": [],
   "source": [
    "for col in cols:\n",
    "    dct={}\n",
    "    for i in range(len(test)):\n",
    "        dct[str(i)] = []\n",
    "    index=0\n",
    "    for loc in test:\n",
    "        df=pd.read_csv(f\"splitcoords/val/{loc}\")\n",
    "        dct[str(index)]=df[str(col)].to_list()\n",
    "        index+=1\n",
    "    pd.DataFrame(dct).to_csv(f\"splitcoords/val/data/{col}\")"
   ]
  },
  {
   "cell_type": "code",
   "execution_count": 84,
   "id": "f2006c4a",
   "metadata": {},
   "outputs": [],
   "source": [
    "testy=[int(x[0]) for x in test]\n",
    "pd.DataFrame(testy).to_csv(f\"splitcoords/val/y_val.csv\")"
   ]
  },
  {
   "cell_type": "code",
   "execution_count": 76,
   "id": "04183371",
   "metadata": {},
   "outputs": [],
   "source": [
    "for i in os.listdir(\"splitcoords/train/data\"):\n",
    "    df=pd.read_csv(f\"splitcoords/train/data/{i}\")\n",
    "    df=df.transpose()\n",
    "    df.drop(index=df.index[0], axis=0, inplace=True)\n",
    "    df.to_csv(f\"splitcoords/train/data/{i}\")"
   ]
  },
  {
   "cell_type": "code",
   "execution_count": 78,
   "id": "775ddfc3",
   "metadata": {},
   "outputs": [],
   "source": [
    "for i in os.listdir(\"splitcoords/val/data\"):\n",
    "    df=pd.read_csv(f\"splitcoords/val/data/{i}\")\n",
    "    df=df.transpose()\n",
    "    df.drop(index=df.index[0], axis=0, inplace=True)\n",
    "    df.to_csv(f\"splitcoords/val/data/{i}\")"
   ]
  }
 ],
 "metadata": {
  "kernelspec": {
   "display_name": "Python 3 (ipykernel)",
   "language": "python",
   "name": "python3"
  },
  "language_info": {
   "codemirror_mode": {
    "name": "ipython",
    "version": 3
   },
   "file_extension": ".py",
   "mimetype": "text/x-python",
   "name": "python",
   "nbconvert_exporter": "python",
   "pygments_lexer": "ipython3",
   "version": "3.8.12"
  }
 },
 "nbformat": 4,
 "nbformat_minor": 5
}
